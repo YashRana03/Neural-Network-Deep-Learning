{
 "metadata": {
  "kernelspec": {
   "display_name": "Python 3",
   "language": "python",
   "name": "python3"
  },
  "language_info": {
   "name": "python",
   "version": "3.10.13",
   "mimetype": "text/x-python",
   "codemirror_mode": {
    "name": "ipython",
    "version": 3
   },
   "pygments_lexer": "ipython3",
   "nbconvert_exporter": "python",
   "file_extension": ".py"
  },
  "kaggle": {
   "accelerator": "gpu",
   "dataSources": [],
   "dockerImageVersionId": 30683,
   "isInternetEnabled": true,
   "language": "python",
   "sourceType": "notebook",
   "isGpuEnabled": true
  }
 },
 "nbformat_minor": 4,
 "nbformat": 4,
 "cells": [
  {
   "cell_type": "code",
   "source": [
    "# Importing the required libraries\n",
    "import torch\n",
    "from torch import nn\n",
    "import torchvision\n",
    "from torchvision import transforms\n",
    "from matplotlib import pyplot as plt\n",
    "from IPython import display\n",
    "import sys\n",
    "\n",
    "batch_size = 128 # batch size\n",
    "\n",
    "# Declaring the transformations to be applied to the train data\n",
    "train_trans = transforms.Compose([ \n",
    "    transforms.RandomHorizontalFlip(p=0.5),\n",
    "    transforms.RandomRotation(degrees=10),\n",
    "    transforms.RandomCrop(32, padding=None, pad_if_needed=False, fill=0, padding_mode='constant'),\n",
    "    transforms.ToTensor()\n",
    "])\n",
    "\n",
    "# Declaring the transformations to be applied to the test data (no transformations)\n",
    "test_trans = transforms.Compose([\n",
    "    transforms.ToTensor()\n",
    "])\n",
    "\n",
    "# getting the CIFAR10 train data\n",
    "CIFAR10_train = torchvision.datasets.CIFAR10(\n",
    "    root=\"../data\", train=True, transform=train_trans,download=True)\n",
    "# getting the CIFAR10 test data\n",
    "CIFAR10_test = torchvision.datasets.CIFAR10(\n",
    "    root=\"../data\", train=False, transform=test_trans, download=True)\n",
    "\n",
    "\n",
    "# creating the test dataloader which will return batch size number of data when called\n",
    "test_iter = torch.utils.data.DataLoader(CIFAR10_test, batch_size, shuffle=False)\n",
    "# creating the train dataloader which will return batch size number of data when called\n",
    "train_iter = torch.utils.data.DataLoader(CIFAR10_train, batch_size, shuffle=True) # train data will be shuffled\n",
    "\n"
   ],
   "metadata": {
    "execution": {
     "iopub.status.busy": "2024-04-11T16:38:31.085468Z",
     "iopub.execute_input": "2024-04-11T16:38:31.086209Z",
     "iopub.status.idle": "2024-04-11T16:38:32.874707Z",
     "shell.execute_reply.started": "2024-04-11T16:38:31.086170Z",
     "shell.execute_reply": "2024-04-11T16:38:32.873811Z"
    },
    "trusted": true
   },
   "execution_count": 89,
   "outputs": [
    {
     "name": "stdout",
     "text": "Files already downloaded and verified\nFiles already downloaded and verified\n",
     "output_type": "stream"
    }
   ]
  },
  {
   "cell_type": "code",
   "source": [
    "# Chosing GPU if availabe\n",
    "device = torch.device('cuda' if torch.cuda.is_available() else 'cpu')"
   ],
   "metadata": {
    "collapsed": false,
    "ExecuteTime": {
     "end_time": "2024-04-01T18:28:06.298355200Z",
     "start_time": "2024-04-01T18:28:06.280751800Z"
    },
    "execution": {
     "iopub.status.busy": "2024-04-11T16:38:32.875832Z",
     "iopub.execute_input": "2024-04-11T16:38:32.876182Z",
     "iopub.status.idle": "2024-04-11T16:38:32.880977Z",
     "shell.execute_reply.started": "2024-04-11T16:38:32.876156Z",
     "shell.execute_reply": "2024-04-11T16:38:32.879926Z"
    },
    "trusted": true
   },
   "execution_count": 90,
   "outputs": []
  },
  {
   "cell_type": "code",
   "source": [
    "# This is the class for creating basic blocks used for building the model\n",
    "class BASICBLOCK(nn.Module):\n",
    "    # Constructor takes in as arguments the number of convolutional layers (k), input and output channel size of the layers, \n",
    "    # the resolution(size) of the image, a tuple containing parameters for the conv layers, and whether batch normalization will be applied to the block\n",
    "    def __init__(self, num_convs, input_channels, output_channels, resolution, conv_params, applyBN1=False):\n",
    "        super(BASICBLOCK,self).__init__()\n",
    "\n",
    "        self.num_convs = num_convs\n",
    "        self.applyBN1 = applyBN1 \n",
    "        # Declearing the spatialAveragePooling function with the kernel size equal to the resolution of the image\n",
    "        # so that there will be 1 value per channel\n",
    "        self.spatial_pooling1 = nn.AvgPool2d(kernel_size=resolution, stride=1, padding=0)\n",
    "        self.FLT = nn.Flatten() # Declaring flatten function\n",
    "        # Declaring the linear layer for predicting the values of k coefficients, one for each conv layer\n",
    "        self.linear1 = nn.Linear(in_features=input_channels, out_features=num_convs)\n",
    "        self.Tanh = nn.Tanh() # Activation function Tanh\n",
    "        \n",
    "        # Creating the k convolutional layers with the same number of input, output channels and the appropriate kernel, padding, and stride as provided by the argument\n",
    "        for i in range(0, self.num_convs):\n",
    "            self.add_module('conv{num}'.format(num=i+1), nn.Conv2d(input_channels, output_channels, kernel_size=conv_params[0], padding=conv_params[1], stride=conv_params[2]))\n",
    "        \n",
    "        self.BN1 = nn.BatchNorm2d(output_channels) # Declaring the batch normalization function\n",
    "\n",
    "    def forward(self, x):\n",
    "        coefficients = self.spatial_pooling1(x) # Applying the spatialAveragePooling\n",
    "        coefficients = self.FLT(coefficients) # Flattening the result\n",
    "        coefficients = self.linear1(coefficients) # Passing it through the linear layer\n",
    "        coefficients = self.Tanh(coefficients) # Applying the activation function\n",
    "\n",
    "#         outputs = []\n",
    "#         for i in range(0, self.num_convs):\n",
    "#             outputs.append(self.relu((self._modules[f\"conv{i+1}\"](x))) * coefficients[:, i].unsqueeze(1).unsqueeze(2).unsqueeze(3))\n",
    "            \n",
    "#         o = sum(outputs)\n",
    "\n",
    "        #checking if the batch normalization should be applied to this block\n",
    "        if self.applyBN1:\n",
    "            # here the multiplication between the output of each conv layer and the respective coefficient is performed\n",
    "            # this is done through a list comprehension which loops through each conv layer and accesses the right coefficient\n",
    "            # the coefficient is first made into the right dimension by using unsqueeze() before being multiplied with the output of the respective conv layer\n",
    "            # the result of Multiplication is then passed through the activation function and is summed together using sum()\n",
    "            \n",
    "            o = sum([self.Tanh((self._modules['conv{num}'.format(num=i+1)](x))) * coefficients[:, i].unsqueeze(1).unsqueeze(2).unsqueeze(3) for i in range(self.num_convs-1)])\n",
    "             # If the batch normalization is being applied, it is only applied to the last conv layer of the current block \n",
    "            o = o + self.Tanh(self.BN1(self._modules['conv{num}'.format(num=self.num_convs-1)](x))) * coefficients[:, self.num_convs - 1].unsqueeze(1).unsqueeze(2).unsqueeze(3)\n",
    "            \n",
    "        else:\n",
    "            # Multiplication and summing without the application of batch normalization \n",
    "            o = sum([self.Tanh(self._modules['conv{num}'.format(num=i+1)](x)) * coefficients[:, i].unsqueeze(1).unsqueeze(2).unsqueeze(3) for i in range(self.num_convs)])\n",
    "        \n",
    "        \n",
    "        \n",
    "        return o"
   ],
   "metadata": {
    "collapsed": false,
    "ExecuteTime": {
     "end_time": "2024-04-02T10:14:25.945286Z",
     "start_time": "2024-04-02T10:14:25.902208700Z"
    },
    "execution": {
     "iopub.status.busy": "2024-04-11T16:38:32.961914Z",
     "iopub.execute_input": "2024-04-11T16:38:32.962219Z",
     "iopub.status.idle": "2024-04-11T16:38:32.977286Z",
     "shell.execute_reply.started": "2024-04-11T16:38:32.962192Z",
     "shell.execute_reply": "2024-04-11T16:38:32.976009Z"
    },
    "trusted": true
   },
   "execution_count": 94,
   "outputs": []
  },
  {
   "cell_type": "code",
   "source": [
    "# This class creates the classifier of the model\n",
    "\n",
    "class CLASSIFIER(torch.nn.Module):\n",
    "    # Constructor takes as arguments the resolution of the image(size) and the number of channels of the data\n",
    "    def __init__(self, resolution, input_channels):\n",
    "        super(CLASSIFIER, self).__init__()\n",
    "\n",
    "        # Declaring the spatialAveragePooling function with the kernel size equal to the resolution of the image\n",
    "        # so that there will be 1 value per channel\n",
    "        self.spatial_pooling2 = nn.AvgPool2d(kernel_size=resolution, padding=0, stride=1) \n",
    "        self.FLT = torch.nn.Flatten() # Declaring flatten function\n",
    "        \n",
    "        # Following lines declare a multi perceptron made of 3 layers where channels are decreased evenly through each layer\n",
    "        self.linear1 = nn.Linear(input_channels, 64) \n",
    "        self.linear2 = nn.Linear(64, 32)\n",
    "        # the last layer outputs exactly 10 channels as the images being classified will belong to 10 classes\n",
    "        self.linear3 = nn.Linear(32, 10)\n",
    "        self.Tanh = nn.Tanh() # activation function tanh\n",
    "\n",
    "    def forward(self, x):\n",
    "        # the following code first applies the spatialAveragePooling, flattens the output which is then fed through \n",
    "        # the multi perceptron. After each layer the activation function is applied\n",
    "        out = self.spatial_pooling2(x)\n",
    "        out = self.FLT(out)\n",
    "        out = self.linear1(out)\n",
    "        out = self.Tanh(out)\n",
    "        out = self.linear2(out)\n",
    "        out = self.Tanh(out) \n",
    "        out = self.linear3(out)\n",
    "\n",
    "        return out"
   ],
   "metadata": {
    "collapsed": false,
    "ExecuteTime": {
     "end_time": "2024-04-02T10:14:29.798385400Z",
     "start_time": "2024-04-02T10:14:29.777751300Z"
    },
    "execution": {
     "iopub.status.busy": "2024-04-11T16:38:32.978674Z",
     "iopub.execute_input": "2024-04-11T16:38:32.978997Z",
     "iopub.status.idle": "2024-04-11T16:38:32.990971Z",
     "shell.execute_reply.started": "2024-04-11T16:38:32.978955Z",
     "shell.execute_reply": "2024-04-11T16:38:32.990003Z"
    },
    "trusted": true
   },
   "execution_count": 95,
   "outputs": []
  },
  {
   "cell_type": "code",
   "source": [
    "# This class declares the overall model using the BASICBLOCK and CLASSIFIER classes\n",
    "\n",
    "class MODEL(nn.Module):\n",
    "    def __init__(self):\n",
    "        super(MODEL,self).__init__()\n",
    "        \n",
    "        # This model is composed of 4 blocks: the first 2 have 5 convolutional layers while the third block has 4 and the last, has only 3.\n",
    "        # As the model goes from the starting block to the next ones the number of output channels are doubled at each stage. at the same time \n",
    "        # the resolution of the images is decreased from block to block. \n",
    "        # The first 3 blocks will have batch normalization be applied to their conv layers\n",
    "        self.block1 = BASICBLOCK(num_convs=5, input_channels=3, output_channels=16, resolution=32, conv_params=[9, 0, 1],applyBN1=True)\n",
    "        self.block2 = BASICBLOCK(num_convs=5, input_channels=16, output_channels=32, resolution=24, conv_params=[2, 3, 2],applyBN1=True)\n",
    "        self.block3 = BASICBLOCK(num_convs=4, input_channels=32, output_channels=64, resolution=15, conv_params=[4, 0, 1],applyBN1=True)\n",
    "        self.block4 = BASICBLOCK(num_convs=3, input_channels=64, output_channels=128, resolution=12, conv_params=[3, 0, 1],applyBN1=False)\n",
    "        \n",
    "        # the classifier takes the output of the last block. This has image resolution 10, and 128 channels\n",
    "        self.classifier = CLASSIFIER(resolution=10, input_channels=128)\n",
    "\n",
    "    def forward(self, x):\n",
    "        \n",
    "        # Here the input x is passed through the first block. The output of the first block will be passed into the second block and so on\n",
    "        out = x\n",
    "        out = self.block1(out)\n",
    "        # print(out.shape)\n",
    "        out = self.block2(out)\n",
    "        out = self.block3(out)\n",
    "        out = self.block4(out)\n",
    "        \n",
    "        # Classifier takes the last output and returns the final prediction which be composed of 10 numbers(representing the 10 classes)\n",
    "        # the predicted class will be the one with highest number\n",
    "        out = self.classifier(out)\n",
    "        return out\n",
    "\n",
    "\n"
   ],
   "metadata": {
    "collapsed": false,
    "ExecuteTime": {
     "end_time": "2024-04-02T10:14:31.894669900Z",
     "start_time": "2024-04-02T10:14:31.873600700Z"
    },
    "execution": {
     "iopub.status.busy": "2024-04-11T16:38:32.992352Z",
     "iopub.execute_input": "2024-04-11T16:38:32.992666Z",
     "iopub.status.idle": "2024-04-11T16:38:33.008853Z",
     "shell.execute_reply.started": "2024-04-11T16:38:32.992639Z",
     "shell.execute_reply": "2024-04-11T16:38:33.007845Z"
    },
    "trusted": true
   },
   "execution_count": 96,
   "outputs": []
  },
  {
   "cell_type": "code",
   "source": [
    "# Creating the model object\n",
    "model = MODEL()\n",
    "\n",
    "# Needed for GPU\n",
    "model.to(device)\n",
    "\n",
    "# Used to print total number of parameters used by the model\n",
    "# total_params = sum(p.numel() for p in model.parameters())\n",
    "# print(f\"Number of parameters: {total_params}\")\n",
    "     "
   ],
   "metadata": {
    "collapsed": false,
    "ExecuteTime": {
     "end_time": "2024-04-02T10:14:36.799151500Z",
     "start_time": "2024-04-02T10:14:36.762163600Z"
    },
    "execution": {
     "iopub.status.busy": "2024-04-11T16:38:33.010083Z",
     "iopub.execute_input": "2024-04-11T16:38:33.010481Z",
     "iopub.status.idle": "2024-04-11T16:38:33.039615Z",
     "shell.execute_reply.started": "2024-04-11T16:38:33.010451Z",
     "shell.execute_reply": "2024-04-11T16:38:33.038492Z"
    },
    "trusted": true
   },
   "execution_count": 97,
   "outputs": [
    {
     "name": "stdout",
     "text": "Number of parameters: 394394\n",
     "output_type": "stream"
    }
   ]
  },
  {
   "cell_type": "code",
   "source": [
    "# The following two cells contain code taken from previous labs and MU script file. "
   ],
   "metadata": {},
   "execution_count": null,
   "outputs": []
  },
  {
   "cell_type": "code",
   "source": [
    "#  Used to retain record of model training data about each epoch\n",
    "class Accumulator:  \n",
    "    \"\"\"For accumulating sums over `n` variables.\"\"\"\n",
    "    def __init__(self, n):\n",
    "        self.data = [0.0] * n # [0, 0, ..., 0]\n",
    "    def add(self, *args):\n",
    "        self.data = [a + float(b) for a, b in zip(self.data, args)]\n",
    "    def reset(self):\n",
    "        self.data = [0.0] * len(self.data)\n",
    "    def __getitem__(self, idx):\n",
    "        return self.data[idx]\n",
    "\n",
    "d2l = sys.modules[__name__]\n",
    "\n",
    "# This function returns the number of correction predictions in the batch given\n",
    "def accuracy(y_hat, y):  #y_hat is a matrix; 2nd dimension stores prediction scores for each class.\n",
    "    if len(y_hat.shape) > 1 and y_hat.shape[1] > 1:\n",
    "        y_hat = y_hat.argmax(axis=1) # Predicted class is the one with the largest value therefore using argmax to check for the chosen one    \n",
    "    cmp = (y_hat.type(y.dtype) == y)  # comparing predicted classes with the actual classes\n",
    "    return float(torch.sum(cmp)) # Taking the sum yields the number of correct predictions.\n",
    "\n",
    "# This function just calculates the test accuracy of the model as a percentage for 1 epoch\n",
    "def evaluate_accuracy(net, data_iter): \n",
    "    metric = Accumulator(2)  # No. of correct predictions, no. of predictions\n",
    "    for _, (X, y) in enumerate(data_iter): # loops through epoch batch by batch\n",
    "        X = X.to(device) # To make use of gpu\n",
    "        y = y.to(device) # To make use of gpu\n",
    "        metric.add(accuracy(net(X), y), y.numel())\n",
    "    return metric[0] / metric[1] # dividing correct predictions by the tot. number of prediction to find the percentage accuracy\n",
    "\n",
    "    \n",
    "# This is the script used to train the model for 1 epoch\n",
    "def train_epoch_ch3(net, train_iter, loss, optimizer, batch_size=256, num_outputs=10):  \n",
    "    # Set the model to training mode\n",
    "    if isinstance(net, torch.nn.Module):\n",
    "        net.train()\n",
    "    # Sum of training loss, sum of training accuracy, no. of examples\n",
    "    metric = Accumulator(3)\n",
    "    for X, y in train_iter: # accessing the batches in the epoch(X data, y labels)\n",
    "        # Compute gradients and update parameters\n",
    "        X = X.to(device) # To make use of gpu\n",
    "        y = y.to(device) # To make use of gpu\n",
    "        y_hat = net(X) # passing the images (input) to the model and storing the predictions in y_hat\n",
    "        l = loss(y_hat, y) # declaring the loss function by providing the predictions and the labels\n",
    "        optimizer.zero_grad() # clearing gradients\n",
    "        l.backward() # performing backward to compute gradients\n",
    "        optimizer.step() # updates the parameters so as to reduce the error\n",
    "        metric.add(float(l) * len(y), accuracy(y_hat, y), y.size().numel())\n",
    "    # Return training loss and training accuracy by dividing by the batch size\n",
    "    return metric[0] / metric[2], metric[1] / metric[2]\n",
    "\n",
    "\n",
    "# This is the overall training function which trains the model through all the epochs and plots the graph \n",
    "def train_ch3(net, train_iter, test_iter, loss, num_epochs, optimizer):  \n",
    "    \n",
    "    # This is a class used to do the graph plotting. It plots the train loss, train accuracy and test accuracy on the same graph\n",
    "    animator = Animator(xlabel='epoch', xlim=[1, num_epochs], ylim=[0.3, 0.9],\n",
    "                        legend=['train loss', 'train acc', 'test acc'])\n",
    "    # For each epoch\n",
    "    for epoch in range(num_epochs):\n",
    "        # train the model and return the training loss and accuracy\n",
    "        train_metrics = train_epoch_ch3(net, train_iter, loss, optimizer)\n",
    "        # Compute the test accuracy \n",
    "        test_acc = evaluate_accuracy(net, test_iter)\n",
    "        # Update the graph by adding the new calculated model performance \n",
    "        animator.add(epoch + 1, train_metrics + (test_acc,))\n",
    "        # If it's the last epoch print the test accuracy\n",
    "        if epoch == num_epochs-1:\n",
    "            print(f\"Test Accuracy:{test_acc} \")"
   ],
   "metadata": {
    "execution": {
     "iopub.status.busy": "2024-04-11T16:38:33.041157Z",
     "iopub.execute_input": "2024-04-11T16:38:33.042049Z",
     "iopub.status.idle": "2024-04-11T16:38:33.058171Z",
     "shell.execute_reply.started": "2024-04-11T16:38:33.041988Z",
     "shell.execute_reply": "2024-04-11T16:38:33.057079Z"
    },
    "trusted": true
   },
   "execution_count": 98,
   "outputs": []
  },
  {
   "cell_type": "code",
   "source": [
    "# The following code is just pytorch code used to do plotting (taken from MU file)\n",
    "def use_svg_display():  \n",
    "    \"\"\"Use the svg format to display a plot in Jupyter.\"\"\"\n",
    "    display.set_matplotlib_formats('svg')\n",
    "\n",
    "\n",
    "    \n",
    "def set_axes(axes, xlabel, ylabel, xlim, ylim, xscale, yscale, legend):\n",
    "    \"\"\"Set the axes for matplotlib.\"\"\"\n",
    "    axes.set_xlabel(xlabel)\n",
    "    axes.set_ylabel(ylabel)\n",
    "    axes.set_xscale(xscale)\n",
    "    axes.set_yscale(yscale)\n",
    "    axes.set_xlim(xlim)\n",
    "    axes.set_ylim(ylim)\n",
    "    if legend:\n",
    "        axes.legend(legend)\n",
    "    axes.grid()\n",
    "    \n",
    "class Animator:  \n",
    "    \"\"\"For plotting data in animation.\"\"\"\n",
    "    def __init__(self, xlabel=None, ylabel=None, legend=None, xlim=None,\n",
    "                 ylim=None, xscale='linear', yscale='linear',\n",
    "                 fmts=('-', 'm--', 'g-.', 'r:'), nrows=1, ncols=1,\n",
    "                 figsize=(3.5, 2.5)):\n",
    "        # Incrementally plot multiple lines\n",
    "        if legend is None:\n",
    "            legend = []\n",
    "        use_svg_display()\n",
    "        self.fig, self.axes = plt.subplots(nrows, ncols, figsize=figsize)\n",
    "        if nrows * ncols == 1:\n",
    "            self.axes = [self.axes, ]\n",
    "        # Use a lambda function to capture arguments\n",
    "        self.config_axes = lambda: set_axes(\n",
    "            self.axes[0], xlabel, ylabel, xlim, ylim, xscale, yscale, legend)\n",
    "        self.X, self.Y, self.fmts = None, None, fmts\n",
    "\n",
    "    def add(self, x, y):\n",
    "        # Add multiple data points into the figure\n",
    "        if not hasattr(y, \"__len__\"):\n",
    "            y = [y]\n",
    "        n = len(y)\n",
    "        if not hasattr(x, \"__len__\"):\n",
    "            x = [x] * n\n",
    "        if not self.X:\n",
    "            self.X = [[] for _ in range(n)]\n",
    "        if not self.Y:\n",
    "            self.Y = [[] for _ in range(n)]\n",
    "        for i, (a, b) in enumerate(zip(x, y)):\n",
    "            if a is not None and b is not None:\n",
    "                self.X[i].append(a)\n",
    "                self.Y[i].append(b)\n",
    "        self.axes[0].cla()\n",
    "        for x, y, fmt in zip(self.X, self.Y, self.fmts):\n",
    "            self.axes[0].plot(x, y, fmt)\n",
    "        self.config_axes()\n",
    "        display.display(self.fig)\n",
    "        display.clear_output(wait=True)"
   ],
   "metadata": {
    "execution": {
     "iopub.status.busy": "2024-04-11T16:38:33.077208Z",
     "iopub.execute_input": "2024-04-11T16:38:33.077609Z",
     "iopub.status.idle": "2024-04-11T16:38:33.094784Z",
     "shell.execute_reply.started": "2024-04-11T16:38:33.077579Z",
     "shell.execute_reply": "2024-04-11T16:38:33.093711Z"
    },
    "trusted": true
   },
   "execution_count": 100,
   "outputs": []
  },
  {
   "cell_type": "code",
   "source": [
    "# Creating the loss function (in this case cross entropy)\n",
    "loss = nn.CrossEntropyLoss()\n",
    "wd = 0.0005 # weight decay hyperparameter\n",
    "lr = 0.015 # learning rate hyperparamter\n",
    "mm = 0.7 # momentum hyperparamter\n",
    "\n",
    "# Creating the optimizer in this case using SGD, and passing in the hyperparamters\n",
    "optimizer = torch.optim.SGD(model.parameters(), lr=lr, weight_decay=wd, momentum=mm)"
   ],
   "metadata": {
    "collapsed": false,
    "ExecuteTime": {
     "end_time": "2024-04-02T10:14:44.809920200Z",
     "start_time": "2024-04-02T10:14:44.781142600Z"
    },
    "execution": {
     "iopub.status.busy": "2024-04-11T16:38:33.098690Z",
     "iopub.execute_input": "2024-04-11T16:38:33.099046Z",
     "iopub.status.idle": "2024-04-11T16:38:33.110231Z",
     "shell.execute_reply.started": "2024-04-11T16:38:33.099007Z",
     "shell.execute_reply": "2024-04-11T16:38:33.109265Z"
    },
    "trusted": true
   },
   "execution_count": 101,
   "outputs": []
  },
  {
   "cell_type": "code",
   "source": [
    "num_epochs = 150 # number of epochs the model will be trained for\n",
    "\n",
    "# calling the training function by passing the model, training/testing data iterators, loss function, epochs number\n",
    "# and optimizer\n",
    "train_ch3(model, train_iter, test_iter, loss, num_epochs, optimizer)"
   ],
   "metadata": {
    "collapsed": false,
    "is_executing": true,
    "execution": {
     "iopub.status.busy": "2024-04-11T16:38:33.111497Z",
     "iopub.execute_input": "2024-04-11T16:38:33.111802Z",
     "iopub.status.idle": "2024-04-11T17:55:50.515253Z",
     "shell.execute_reply.started": "2024-04-11T16:38:33.111774Z",
     "shell.execute_reply": "2024-04-11T17:55:50.513622Z"
    },
    "trusted": true
   },
   "execution_count": 102,
   "outputs": [
    {
     "name": "stdout",
     "text": "Test Accuracy:0.8042 \n",
     "output_type": "stream"
    },
    {
     "output_type": "display_data",
     "data": {
      "text/plain": "<Figure size 350x250 with 1 Axes>",
      "image/svg+xml": "<?xml version=\"1.0\" encoding=\"utf-8\" standalone=\"no\"?>\n<!DOCTYPE svg PUBLIC \"-//W3C//DTD SVG 1.1//EN\"\n  \"http://www.w3.org/Graphics/SVG/1.1/DTD/svg11.dtd\">\n<svg xmlns:xlink=\"http://www.w3.org/1999/xlink\" width=\"242.146875pt\" height=\"183.35625pt\" viewBox=\"0 0 242.146875 183.35625\" xmlns=\"http://www.w3.org/2000/svg\" version=\"1.1\">\n <metadata>\n  <rdf:RDF xmlns:dc=\"http://purl.org/dc/elements/1.1/\" xmlns:cc=\"http://creativecommons.org/ns#\" xmlns:rdf=\"http://www.w3.org/1999/02/22-rdf-syntax-ns#\">\n   <cc:Work>\n    <dc:type rdf:resource=\"http://purl.org/dc/dcmitype/StillImage\"/>\n    <dc:date>2024-04-11T17:55:50.399697</dc:date>\n    <dc:format>image/svg+xml</dc:format>\n    <dc:creator>\n     <cc:Agent>\n      <dc:title>Matplotlib v3.7.5, https://matplotlib.org/</dc:title>\n     </cc:Agent>\n    </dc:creator>\n   </cc:Work>\n  </rdf:RDF>\n </metadata>\n <defs>\n  <style type=\"text/css\">*{stroke-linejoin: round; stroke-linecap: butt}</style>\n </defs>\n <g id=\"figure_1\">\n  <g id=\"patch_1\">\n   <path d=\"M 0 183.35625 \nL 242.146875 183.35625 \nL 242.146875 0 \nL 0 0 \nz\n\" style=\"fill: #ffffff\"/>\n  </g>\n  <g id=\"axes_1\">\n   <g id=\"patch_2\">\n    <path d=\"M 30.103125 145.8 \nL 225.403125 145.8 \nL 225.403125 7.2 \nL 30.103125 7.2 \nz\n\" style=\"fill: #ffffff\"/>\n   </g>\n   <g id=\"matplotlib.axis_1\">\n    <g id=\"xtick_1\">\n     <g id=\"line2d_1\">\n      <path d=\"M 61.560843 145.8 \nL 61.560843 7.2 \n\" clip-path=\"url(#pab910a7716)\" style=\"fill: none; stroke: #b0b0b0; stroke-width: 0.8; stroke-linecap: square\"/>\n     </g>\n     <g id=\"line2d_2\">\n      <defs>\n       <path id=\"mfdb1f5046e\" d=\"M 0 0 \nL 0 3.5 \n\" style=\"stroke: #000000; stroke-width: 0.8\"/>\n      </defs>\n      <g>\n       <use xlink:href=\"#mfdb1f5046e\" x=\"61.560843\" y=\"145.8\" style=\"stroke: #000000; stroke-width: 0.8\"/>\n      </g>\n     </g>\n     <g id=\"text_1\">\n      <!-- 25 -->\n      <g transform=\"translate(55.198343 160.398438) scale(0.1 -0.1)\">\n       <defs>\n        <path id=\"DejaVuSans-32\" d=\"M 1228 531 \nL 3431 531 \nL 3431 0 \nL 469 0 \nL 469 531 \nQ 828 903 1448 1529 \nQ 2069 2156 2228 2338 \nQ 2531 2678 2651 2914 \nQ 2772 3150 2772 3378 \nQ 2772 3750 2511 3984 \nQ 2250 4219 1831 4219 \nQ 1534 4219 1204 4116 \nQ 875 4013 500 3803 \nL 500 4441 \nQ 881 4594 1212 4672 \nQ 1544 4750 1819 4750 \nQ 2544 4750 2975 4387 \nQ 3406 4025 3406 3419 \nQ 3406 3131 3298 2873 \nQ 3191 2616 2906 2266 \nQ 2828 2175 2409 1742 \nQ 1991 1309 1228 531 \nz\n\" transform=\"scale(0.015625)\"/>\n        <path id=\"DejaVuSans-35\" d=\"M 691 4666 \nL 3169 4666 \nL 3169 4134 \nL 1269 4134 \nL 1269 2991 \nQ 1406 3038 1543 3061 \nQ 1681 3084 1819 3084 \nQ 2600 3084 3056 2656 \nQ 3513 2228 3513 1497 \nQ 3513 744 3044 326 \nQ 2575 -91 1722 -91 \nQ 1428 -91 1123 -41 \nQ 819 9 494 109 \nL 494 744 \nQ 775 591 1075 516 \nQ 1375 441 1709 441 \nQ 2250 441 2565 725 \nQ 2881 1009 2881 1497 \nQ 2881 1984 2565 2268 \nQ 2250 2553 1709 2553 \nQ 1456 2553 1204 2497 \nQ 953 2441 691 2322 \nL 691 4666 \nz\n\" transform=\"scale(0.015625)\"/>\n       </defs>\n       <use xlink:href=\"#DejaVuSans-32\"/>\n       <use xlink:href=\"#DejaVuSans-35\" x=\"63.623047\"/>\n      </g>\n     </g>\n    </g>\n    <g id=\"xtick_2\">\n     <g id=\"line2d_3\">\n      <path d=\"M 94.329299 145.8 \nL 94.329299 7.2 \n\" clip-path=\"url(#pab910a7716)\" style=\"fill: none; stroke: #b0b0b0; stroke-width: 0.8; stroke-linecap: square\"/>\n     </g>\n     <g id=\"line2d_4\">\n      <g>\n       <use xlink:href=\"#mfdb1f5046e\" x=\"94.329299\" y=\"145.8\" style=\"stroke: #000000; stroke-width: 0.8\"/>\n      </g>\n     </g>\n     <g id=\"text_2\">\n      <!-- 50 -->\n      <g transform=\"translate(87.966799 160.398438) scale(0.1 -0.1)\">\n       <defs>\n        <path id=\"DejaVuSans-30\" d=\"M 2034 4250 \nQ 1547 4250 1301 3770 \nQ 1056 3291 1056 2328 \nQ 1056 1369 1301 889 \nQ 1547 409 2034 409 \nQ 2525 409 2770 889 \nQ 3016 1369 3016 2328 \nQ 3016 3291 2770 3770 \nQ 2525 4250 2034 4250 \nz\nM 2034 4750 \nQ 2819 4750 3233 4129 \nQ 3647 3509 3647 2328 \nQ 3647 1150 3233 529 \nQ 2819 -91 2034 -91 \nQ 1250 -91 836 529 \nQ 422 1150 422 2328 \nQ 422 3509 836 4129 \nQ 1250 4750 2034 4750 \nz\n\" transform=\"scale(0.015625)\"/>\n       </defs>\n       <use xlink:href=\"#DejaVuSans-35\"/>\n       <use xlink:href=\"#DejaVuSans-30\" x=\"63.623047\"/>\n      </g>\n     </g>\n    </g>\n    <g id=\"xtick_3\">\n     <g id=\"line2d_5\">\n      <path d=\"M 127.097756 145.8 \nL 127.097756 7.2 \n\" clip-path=\"url(#pab910a7716)\" style=\"fill: none; stroke: #b0b0b0; stroke-width: 0.8; stroke-linecap: square\"/>\n     </g>\n     <g id=\"line2d_6\">\n      <g>\n       <use xlink:href=\"#mfdb1f5046e\" x=\"127.097756\" y=\"145.8\" style=\"stroke: #000000; stroke-width: 0.8\"/>\n      </g>\n     </g>\n     <g id=\"text_3\">\n      <!-- 75 -->\n      <g transform=\"translate(120.735256 160.398438) scale(0.1 -0.1)\">\n       <defs>\n        <path id=\"DejaVuSans-37\" d=\"M 525 4666 \nL 3525 4666 \nL 3525 4397 \nL 1831 0 \nL 1172 0 \nL 2766 4134 \nL 525 4134 \nL 525 4666 \nz\n\" transform=\"scale(0.015625)\"/>\n       </defs>\n       <use xlink:href=\"#DejaVuSans-37\"/>\n       <use xlink:href=\"#DejaVuSans-35\" x=\"63.623047\"/>\n      </g>\n     </g>\n    </g>\n    <g id=\"xtick_4\">\n     <g id=\"line2d_7\">\n      <path d=\"M 159.866212 145.8 \nL 159.866212 7.2 \n\" clip-path=\"url(#pab910a7716)\" style=\"fill: none; stroke: #b0b0b0; stroke-width: 0.8; stroke-linecap: square\"/>\n     </g>\n     <g id=\"line2d_8\">\n      <g>\n       <use xlink:href=\"#mfdb1f5046e\" x=\"159.866212\" y=\"145.8\" style=\"stroke: #000000; stroke-width: 0.8\"/>\n      </g>\n     </g>\n     <g id=\"text_4\">\n      <!-- 100 -->\n      <g transform=\"translate(150.322462 160.398438) scale(0.1 -0.1)\">\n       <defs>\n        <path id=\"DejaVuSans-31\" d=\"M 794 531 \nL 1825 531 \nL 1825 4091 \nL 703 3866 \nL 703 4441 \nL 1819 4666 \nL 2450 4666 \nL 2450 531 \nL 3481 531 \nL 3481 0 \nL 794 0 \nL 794 531 \nz\n\" transform=\"scale(0.015625)\"/>\n       </defs>\n       <use xlink:href=\"#DejaVuSans-31\"/>\n       <use xlink:href=\"#DejaVuSans-30\" x=\"63.623047\"/>\n       <use xlink:href=\"#DejaVuSans-30\" x=\"127.246094\"/>\n      </g>\n     </g>\n    </g>\n    <g id=\"xtick_5\">\n     <g id=\"line2d_9\">\n      <path d=\"M 192.634669 145.8 \nL 192.634669 7.2 \n\" clip-path=\"url(#pab910a7716)\" style=\"fill: none; stroke: #b0b0b0; stroke-width: 0.8; stroke-linecap: square\"/>\n     </g>\n     <g id=\"line2d_10\">\n      <g>\n       <use xlink:href=\"#mfdb1f5046e\" x=\"192.634669\" y=\"145.8\" style=\"stroke: #000000; stroke-width: 0.8\"/>\n      </g>\n     </g>\n     <g id=\"text_5\">\n      <!-- 125 -->\n      <g transform=\"translate(183.090919 160.398438) scale(0.1 -0.1)\">\n       <use xlink:href=\"#DejaVuSans-31\"/>\n       <use xlink:href=\"#DejaVuSans-32\" x=\"63.623047\"/>\n       <use xlink:href=\"#DejaVuSans-35\" x=\"127.246094\"/>\n      </g>\n     </g>\n    </g>\n    <g id=\"xtick_6\">\n     <g id=\"line2d_11\">\n      <path d=\"M 225.403125 145.8 \nL 225.403125 7.2 \n\" clip-path=\"url(#pab910a7716)\" style=\"fill: none; stroke: #b0b0b0; stroke-width: 0.8; stroke-linecap: square\"/>\n     </g>\n     <g id=\"line2d_12\">\n      <g>\n       <use xlink:href=\"#mfdb1f5046e\" x=\"225.403125\" y=\"145.8\" style=\"stroke: #000000; stroke-width: 0.8\"/>\n      </g>\n     </g>\n     <g id=\"text_6\">\n      <!-- 150 -->\n      <g transform=\"translate(215.859375 160.398438) scale(0.1 -0.1)\">\n       <use xlink:href=\"#DejaVuSans-31\"/>\n       <use xlink:href=\"#DejaVuSans-35\" x=\"63.623047\"/>\n       <use xlink:href=\"#DejaVuSans-30\" x=\"127.246094\"/>\n      </g>\n     </g>\n    </g>\n    <g id=\"text_7\">\n     <!-- epoch -->\n     <g transform=\"translate(112.525 174.076563) scale(0.1 -0.1)\">\n      <defs>\n       <path id=\"DejaVuSans-65\" d=\"M 3597 1894 \nL 3597 1613 \nL 953 1613 \nQ 991 1019 1311 708 \nQ 1631 397 2203 397 \nQ 2534 397 2845 478 \nQ 3156 559 3463 722 \nL 3463 178 \nQ 3153 47 2828 -22 \nQ 2503 -91 2169 -91 \nQ 1331 -91 842 396 \nQ 353 884 353 1716 \nQ 353 2575 817 3079 \nQ 1281 3584 2069 3584 \nQ 2775 3584 3186 3129 \nQ 3597 2675 3597 1894 \nz\nM 3022 2063 \nQ 3016 2534 2758 2815 \nQ 2500 3097 2075 3097 \nQ 1594 3097 1305 2825 \nQ 1016 2553 972 2059 \nL 3022 2063 \nz\n\" transform=\"scale(0.015625)\"/>\n       <path id=\"DejaVuSans-70\" d=\"M 1159 525 \nL 1159 -1331 \nL 581 -1331 \nL 581 3500 \nL 1159 3500 \nL 1159 2969 \nQ 1341 3281 1617 3432 \nQ 1894 3584 2278 3584 \nQ 2916 3584 3314 3078 \nQ 3713 2572 3713 1747 \nQ 3713 922 3314 415 \nQ 2916 -91 2278 -91 \nQ 1894 -91 1617 61 \nQ 1341 213 1159 525 \nz\nM 3116 1747 \nQ 3116 2381 2855 2742 \nQ 2594 3103 2138 3103 \nQ 1681 3103 1420 2742 \nQ 1159 2381 1159 1747 \nQ 1159 1113 1420 752 \nQ 1681 391 2138 391 \nQ 2594 391 2855 752 \nQ 3116 1113 3116 1747 \nz\n\" transform=\"scale(0.015625)\"/>\n       <path id=\"DejaVuSans-6f\" d=\"M 1959 3097 \nQ 1497 3097 1228 2736 \nQ 959 2375 959 1747 \nQ 959 1119 1226 758 \nQ 1494 397 1959 397 \nQ 2419 397 2687 759 \nQ 2956 1122 2956 1747 \nQ 2956 2369 2687 2733 \nQ 2419 3097 1959 3097 \nz\nM 1959 3584 \nQ 2709 3584 3137 3096 \nQ 3566 2609 3566 1747 \nQ 3566 888 3137 398 \nQ 2709 -91 1959 -91 \nQ 1206 -91 779 398 \nQ 353 888 353 1747 \nQ 353 2609 779 3096 \nQ 1206 3584 1959 3584 \nz\n\" transform=\"scale(0.015625)\"/>\n       <path id=\"DejaVuSans-63\" d=\"M 3122 3366 \nL 3122 2828 \nQ 2878 2963 2633 3030 \nQ 2388 3097 2138 3097 \nQ 1578 3097 1268 2742 \nQ 959 2388 959 1747 \nQ 959 1106 1268 751 \nQ 1578 397 2138 397 \nQ 2388 397 2633 464 \nQ 2878 531 3122 666 \nL 3122 134 \nQ 2881 22 2623 -34 \nQ 2366 -91 2075 -91 \nQ 1284 -91 818 406 \nQ 353 903 353 1747 \nQ 353 2603 823 3093 \nQ 1294 3584 2113 3584 \nQ 2378 3584 2631 3529 \nQ 2884 3475 3122 3366 \nz\n\" transform=\"scale(0.015625)\"/>\n       <path id=\"DejaVuSans-68\" d=\"M 3513 2113 \nL 3513 0 \nL 2938 0 \nL 2938 2094 \nQ 2938 2591 2744 2837 \nQ 2550 3084 2163 3084 \nQ 1697 3084 1428 2787 \nQ 1159 2491 1159 1978 \nL 1159 0 \nL 581 0 \nL 581 4863 \nL 1159 4863 \nL 1159 2956 \nQ 1366 3272 1645 3428 \nQ 1925 3584 2291 3584 \nQ 2894 3584 3203 3211 \nQ 3513 2838 3513 2113 \nz\n\" transform=\"scale(0.015625)\"/>\n      </defs>\n      <use xlink:href=\"#DejaVuSans-65\"/>\n      <use xlink:href=\"#DejaVuSans-70\" x=\"61.523438\"/>\n      <use xlink:href=\"#DejaVuSans-6f\" x=\"125\"/>\n      <use xlink:href=\"#DejaVuSans-63\" x=\"186.181641\"/>\n      <use xlink:href=\"#DejaVuSans-68\" x=\"241.162109\"/>\n     </g>\n    </g>\n   </g>\n   <g id=\"matplotlib.axis_2\">\n    <g id=\"ytick_1\">\n     <g id=\"line2d_13\">\n      <path d=\"M 30.103125 122.7 \nL 225.403125 122.7 \n\" clip-path=\"url(#pab910a7716)\" style=\"fill: none; stroke: #b0b0b0; stroke-width: 0.8; stroke-linecap: square\"/>\n     </g>\n     <g id=\"line2d_14\">\n      <defs>\n       <path id=\"m5cff6cd709\" d=\"M 0 0 \nL -3.5 0 \n\" style=\"stroke: #000000; stroke-width: 0.8\"/>\n      </defs>\n      <g>\n       <use xlink:href=\"#m5cff6cd709\" x=\"30.103125\" y=\"122.7\" style=\"stroke: #000000; stroke-width: 0.8\"/>\n      </g>\n     </g>\n     <g id=\"text_8\">\n      <!-- 0.4 -->\n      <g transform=\"translate(7.2 126.499219) scale(0.1 -0.1)\">\n       <defs>\n        <path id=\"DejaVuSans-2e\" d=\"M 684 794 \nL 1344 794 \nL 1344 0 \nL 684 0 \nL 684 794 \nz\n\" transform=\"scale(0.015625)\"/>\n        <path id=\"DejaVuSans-34\" d=\"M 2419 4116 \nL 825 1625 \nL 2419 1625 \nL 2419 4116 \nz\nM 2253 4666 \nL 3047 4666 \nL 3047 1625 \nL 3713 1625 \nL 3713 1100 \nL 3047 1100 \nL 3047 0 \nL 2419 0 \nL 2419 1100 \nL 313 1100 \nL 313 1709 \nL 2253 4666 \nz\n\" transform=\"scale(0.015625)\"/>\n       </defs>\n       <use xlink:href=\"#DejaVuSans-30\"/>\n       <use xlink:href=\"#DejaVuSans-2e\" x=\"63.623047\"/>\n       <use xlink:href=\"#DejaVuSans-34\" x=\"95.410156\"/>\n      </g>\n     </g>\n    </g>\n    <g id=\"ytick_2\">\n     <g id=\"line2d_15\">\n      <path d=\"M 30.103125 76.5 \nL 225.403125 76.5 \n\" clip-path=\"url(#pab910a7716)\" style=\"fill: none; stroke: #b0b0b0; stroke-width: 0.8; stroke-linecap: square\"/>\n     </g>\n     <g id=\"line2d_16\">\n      <g>\n       <use xlink:href=\"#m5cff6cd709\" x=\"30.103125\" y=\"76.5\" style=\"stroke: #000000; stroke-width: 0.8\"/>\n      </g>\n     </g>\n     <g id=\"text_9\">\n      <!-- 0.6 -->\n      <g transform=\"translate(7.2 80.299219) scale(0.1 -0.1)\">\n       <defs>\n        <path id=\"DejaVuSans-36\" d=\"M 2113 2584 \nQ 1688 2584 1439 2293 \nQ 1191 2003 1191 1497 \nQ 1191 994 1439 701 \nQ 1688 409 2113 409 \nQ 2538 409 2786 701 \nQ 3034 994 3034 1497 \nQ 3034 2003 2786 2293 \nQ 2538 2584 2113 2584 \nz\nM 3366 4563 \nL 3366 3988 \nQ 3128 4100 2886 4159 \nQ 2644 4219 2406 4219 \nQ 1781 4219 1451 3797 \nQ 1122 3375 1075 2522 \nQ 1259 2794 1537 2939 \nQ 1816 3084 2150 3084 \nQ 2853 3084 3261 2657 \nQ 3669 2231 3669 1497 \nQ 3669 778 3244 343 \nQ 2819 -91 2113 -91 \nQ 1303 -91 875 529 \nQ 447 1150 447 2328 \nQ 447 3434 972 4092 \nQ 1497 4750 2381 4750 \nQ 2619 4750 2861 4703 \nQ 3103 4656 3366 4563 \nz\n\" transform=\"scale(0.015625)\"/>\n       </defs>\n       <use xlink:href=\"#DejaVuSans-30\"/>\n       <use xlink:href=\"#DejaVuSans-2e\" x=\"63.623047\"/>\n       <use xlink:href=\"#DejaVuSans-36\" x=\"95.410156\"/>\n      </g>\n     </g>\n    </g>\n    <g id=\"ytick_3\">\n     <g id=\"line2d_17\">\n      <path d=\"M 30.103125 30.3 \nL 225.403125 30.3 \n\" clip-path=\"url(#pab910a7716)\" style=\"fill: none; stroke: #b0b0b0; stroke-width: 0.8; stroke-linecap: square\"/>\n     </g>\n     <g id=\"line2d_18\">\n      <g>\n       <use xlink:href=\"#m5cff6cd709\" x=\"30.103125\" y=\"30.3\" style=\"stroke: #000000; stroke-width: 0.8\"/>\n      </g>\n     </g>\n     <g id=\"text_10\">\n      <!-- 0.8 -->\n      <g transform=\"translate(7.2 34.099219) scale(0.1 -0.1)\">\n       <defs>\n        <path id=\"DejaVuSans-38\" d=\"M 2034 2216 \nQ 1584 2216 1326 1975 \nQ 1069 1734 1069 1313 \nQ 1069 891 1326 650 \nQ 1584 409 2034 409 \nQ 2484 409 2743 651 \nQ 3003 894 3003 1313 \nQ 3003 1734 2745 1975 \nQ 2488 2216 2034 2216 \nz\nM 1403 2484 \nQ 997 2584 770 2862 \nQ 544 3141 544 3541 \nQ 544 4100 942 4425 \nQ 1341 4750 2034 4750 \nQ 2731 4750 3128 4425 \nQ 3525 4100 3525 3541 \nQ 3525 3141 3298 2862 \nQ 3072 2584 2669 2484 \nQ 3125 2378 3379 2068 \nQ 3634 1759 3634 1313 \nQ 3634 634 3220 271 \nQ 2806 -91 2034 -91 \nQ 1263 -91 848 271 \nQ 434 634 434 1313 \nQ 434 1759 690 2068 \nQ 947 2378 1403 2484 \nz\nM 1172 3481 \nQ 1172 3119 1398 2916 \nQ 1625 2713 2034 2713 \nQ 2441 2713 2670 2916 \nQ 2900 3119 2900 3481 \nQ 2900 3844 2670 4047 \nQ 2441 4250 2034 4250 \nQ 1625 4250 1398 4047 \nQ 1172 3844 1172 3481 \nz\n\" transform=\"scale(0.015625)\"/>\n       </defs>\n       <use xlink:href=\"#DejaVuSans-30\"/>\n       <use xlink:href=\"#DejaVuSans-2e\" x=\"63.623047\"/>\n       <use xlink:href=\"#DejaVuSans-38\" x=\"95.410156\"/>\n      </g>\n     </g>\n    </g>\n   </g>\n   <g id=\"line2d_19\">\n    <path d=\"M 59.918652 -1 \nL 60.250105 -0.202538 \nL 61.560843 2.028381 \nL 64.18232 8.574048 \nL 65.493058 11.056622 \nL 68.114534 15.383143 \nL 69.425273 19.204982 \nL 70.736011 22.325715 \nL 72.046749 23.756515 \nL 73.357487 25.475192 \nL 74.668226 26.880008 \nL 75.978964 30.416875 \nL 77.289702 31.611979 \nL 78.60044 33.472609 \nL 79.911179 36.207498 \nL 81.221917 38.437214 \nL 82.532655 41.393911 \nL 83.843393 41.481926 \nL 85.154132 44.077032 \nL 86.46487 46.090759 \nL 87.775608 46.983879 \nL 89.086346 49.179069 \nL 90.397085 49.888198 \nL 93.018561 53.76866 \nL 94.329299 55.428841 \nL 95.640038 55.623683 \nL 96.950776 58.238764 \nL 98.261514 58.668537 \nL 99.572253 60.350091 \nL 100.882991 61.805849 \nL 102.193729 62.399359 \nL 103.504467 64.345973 \nL 104.815206 65.896741 \nL 106.125944 66.868954 \nL 107.436682 68.244338 \nL 108.74742 68.797301 \nL 110.058159 70.602133 \nL 111.368897 70.984706 \nL 112.679635 72.470293 \nL 113.990373 73.526865 \nL 115.301112 74.009398 \nL 116.61185 75.070101 \nL 117.922588 76.604169 \nL 119.233326 77.043036 \nL 120.544065 78.808072 \nL 121.854803 78.850436 \nL 123.165541 80.929218 \nL 124.476279 81.97135 \nL 125.787018 81.878603 \nL 127.097756 83.197348 \nL 128.408494 83.798831 \nL 129.719232 85.006101 \nL 131.029971 86.388521 \nL 132.340709 86.206583 \nL 133.651447 88.025181 \nL 134.962185 89.106947 \nL 136.272924 88.53312 \nL 137.583662 89.998108 \nL 138.8944 91.837459 \nL 140.205138 91.943383 \nL 141.515877 91.796849 \nL 142.826615 93.810494 \nL 144.137353 93.51358 \nL 145.448091 95.163576 \nL 146.75883 94.822929 \nL 148.069568 96.400949 \nL 149.380306 96.90223 \nL 150.691044 97.841975 \nL 152.001783 97.923003 \nL 153.312521 99.511679 \nL 154.623259 99.106164 \nL 157.244736 102.100486 \nL 158.555474 102.411962 \nL 159.866212 102.245151 \nL 163.798427 104.904953 \nL 165.109165 104.511132 \nL 166.419904 105.310392 \nL 167.730642 105.666806 \nL 169.04138 107.506964 \nL 170.352118 106.569381 \nL 171.662857 108.197635 \nL 172.973595 108.515082 \nL 174.284333 110.174707 \nL 175.595071 109.96202 \nL 176.90581 110.332943 \nL 179.527286 111.657166 \nL 180.838024 111.750835 \nL 182.148763 113.532287 \nL 183.459501 113.580331 \nL 184.770239 113.112997 \nL 186.080977 114.512527 \nL 187.391716 115.620647 \nL 190.013192 117.29967 \nL 191.32393 116.505821 \nL 192.634669 117.686748 \nL 193.945407 117.639769 \nL 195.256145 118.556539 \nL 196.566883 117.566912 \nL 197.877622 119.631125 \nL 200.499098 120.093874 \nL 201.809836 120.914974 \nL 203.120575 121.386525 \nL 204.431313 121.554459 \nL 205.742051 122.311458 \nL 207.052789 123.835001 \nL 208.363528 124.165745 \nL 209.674266 123.352132 \nL 210.985004 124.833225 \nL 212.295742 123.133457 \nL 213.606481 125.425704 \nL 214.917219 125.13658 \nL 216.227957 124.989554 \nL 217.538695 126.541348 \nL 218.849434 126.155112 \nL 220.160172 125.621556 \nL 221.47091 126.526381 \nL 222.781648 127.227315 \nL 224.092387 128.467013 \nL 225.403125 128.270234 \nL 225.403125 128.270234 \n\" clip-path=\"url(#pab910a7716)\" style=\"fill: none; stroke: #1f77b4; stroke-width: 1.5; stroke-linecap: square\"/>\n   </g>\n   <g id=\"line2d_20\">\n    <path d=\"M 31.521579 184.35625 \nL 34.03534 134.63346 \nL 35.346078 121.05528 \nL 36.656816 111.46416 \nL 39.278293 95.17404 \nL 40.589031 89.37594 \nL 43.210508 81.60972 \nL 44.521246 79.29048 \nL 45.831984 77.3316 \nL 47.142722 75.70536 \nL 48.453461 73.18284 \nL 49.764199 72.11562 \nL 51.074937 70.80354 \nL 52.385675 68.42886 \nL 53.696414 67.33392 \nL 55.007152 66.48384 \nL 56.31789 65.07936 \nL 57.628628 62.85252 \nL 58.939367 61.89618 \nL 60.250105 60.33924 \nL 61.560843 59.73402 \nL 62.871581 58.51434 \nL 64.18232 57.6735 \nL 65.493058 56.39376 \nL 66.803796 55.8255 \nL 68.114534 54.91074 \nL 70.736011 52.31892 \nL 72.046749 52.06944 \nL 73.357487 51.06228 \nL 77.289702 48.78924 \nL 78.60044 48.38268 \nL 79.911179 47.5557 \nL 81.221917 46.08192 \nL 82.532655 45.11172 \nL 83.843393 45.48132 \nL 85.154132 44.15076 \nL 86.46487 43.40694 \nL 87.775608 43.26372 \nL 90.397085 41.8269 \nL 91.707823 41.46654 \nL 93.018561 40.27458 \nL 94.329299 39.75252 \nL 95.640038 39.91884 \nL 96.950776 38.44968 \nL 98.261514 38.5698 \nL 99.572253 38.42658 \nL 100.882991 37.5996 \nL 102.193729 37.23462 \nL 103.504467 36.45846 \nL 104.815206 36.38454 \nL 106.125944 35.49288 \nL 107.436682 35.28498 \nL 108.74742 35.3589 \nL 110.058159 34.73058 \nL 111.368897 34.51344 \nL 112.679635 34.0191 \nL 113.990373 34.22238 \nL 115.301112 33.24294 \nL 116.61185 33.26142 \nL 117.922588 32.68392 \nL 121.854803 31.48734 \nL 124.476279 30.73428 \nL 125.787018 30.24456 \nL 128.408494 29.96274 \nL 129.719232 29.5839 \nL 131.029971 29.04798 \nL 132.340709 29.07108 \nL 134.962185 27.9669 \nL 136.272924 28.1286 \nL 137.583662 27.91146 \nL 138.8944 26.97822 \nL 140.205138 27.31548 \nL 141.515877 27.07986 \nL 144.137353 26.86734 \nL 148.069568 25.82322 \nL 149.380306 25.17642 \nL 150.691044 25.13022 \nL 152.001783 24.70518 \nL 153.312521 24.56196 \nL 154.623259 24.8022 \nL 157.244736 23.4624 \nL 158.555474 23.4393 \nL 159.866212 23.6934 \nL 161.176951 23.33304 \nL 162.487689 22.63542 \nL 163.798427 22.42752 \nL 165.109165 22.90338 \nL 166.419904 22.64004 \nL 167.730642 22.52454 \nL 169.04138 22.10412 \nL 170.352118 21.94704 \nL 171.662857 21.11544 \nL 172.973595 21.28176 \nL 174.284333 21.1062 \nL 175.595071 21.2448 \nL 176.90581 20.9445 \nL 178.216548 20.47788 \nL 180.838024 20.19144 \nL 182.148763 19.45686 \nL 184.770239 20.06208 \nL 186.080977 19.45686 \nL 187.391716 18.7038 \nL 188.702454 18.76848 \nL 190.013192 18.25104 \nL 191.32393 18.75 \nL 192.634669 17.9415 \nL 193.945407 18.519 \nL 195.256145 17.98308 \nL 196.566883 18.56982 \nL 197.877622 17.25774 \nL 199.18836 17.92302 \nL 200.499098 17.56266 \nL 201.809836 16.98054 \nL 203.120575 17.03136 \nL 204.431313 16.6941 \nL 205.742051 17.06832 \nL 207.052789 15.9318 \nL 208.363528 15.68694 \nL 209.674266 16.41228 \nL 210.985004 15.46518 \nL 212.295742 16.64328 \nL 213.606481 15.09558 \nL 214.917219 15.48366 \nL 216.227957 15.71004 \nL 217.538695 14.92926 \nL 218.849434 15.69156 \nL 220.160172 15.51138 \nL 221.47091 15.12792 \nL 222.781648 15.1464 \nL 224.092387 14.13 \nL 225.403125 14.57814 \nL 225.403125 14.57814 \n\" clip-path=\"url(#pab910a7716)\" style=\"fill: none; stroke-dasharray: 5.55,2.4; stroke-dashoffset: 0; stroke: #bf00bf; stroke-width: 1.5\"/>\n   </g>\n   <g id=\"line2d_21\">\n    <path d=\"M 30.609217 184.35625 \nL 31.413863 172.2033 \nL 32.724602 143.1435 \nL 34.03534 123.162 \nL 35.346078 116.5785 \nL 36.656816 105.1902 \nL 37.967555 98.3757 \nL 39.278293 94.0098 \nL 40.589031 88.3041 \nL 41.899769 84.4695 \nL 43.210508 85.1856 \nL 44.521246 80.7504 \nL 45.831984 78.2787 \nL 47.142722 72.0186 \nL 48.453461 71.6028 \nL 49.764199 71.6028 \nL 51.074937 72.0186 \nL 52.385675 67.8144 \nL 53.696414 65.5506 \nL 56.31789 65.2734 \nL 57.628628 64.5342 \nL 58.939367 65.0193 \nL 60.250105 62.5707 \nL 61.560843 60.6996 \nL 62.871581 60.2838 \nL 64.18232 57.4425 \nL 65.493058 58.6206 \nL 66.803796 55.7562 \nL 68.114534 58.7361 \nL 69.425273 54.4395 \nL 70.736011 53.0535 \nL 72.046749 52.5453 \nL 73.357487 53.7234 \nL 74.668226 51.5751 \nL 75.978964 50.3508 \nL 77.289702 51.9678 \nL 78.60044 49.4268 \nL 79.911179 48.8493 \nL 81.221917 48.6645 \nL 82.532655 47.9484 \nL 83.843393 47.9022 \nL 85.154132 44.9454 \nL 86.46487 45.1071 \nL 87.775608 44.7144 \nL 89.086346 45.084 \nL 90.397085 44.7837 \nL 91.707823 45.8001 \nL 93.018561 44.5989 \nL 94.329299 42.8202 \nL 95.640038 44.5989 \nL 96.950776 42.8433 \nL 98.261514 42.0579 \nL 99.572253 42.2196 \nL 100.882991 40.9722 \nL 102.193729 42.9126 \nL 103.504467 40.9491 \nL 104.815206 40.926 \nL 106.125944 39.2628 \nL 107.436682 40.6488 \nL 108.74742 39.4707 \nL 110.058159 39.7941 \nL 111.368897 37.8075 \nL 112.679635 38.2002 \nL 113.990373 41.3649 \nL 115.301112 37.8306 \nL 116.61185 38.0616 \nL 117.922588 36.1443 \nL 119.233326 38.4774 \nL 121.854803 36.9759 \nL 123.165541 36.4215 \nL 124.476279 38.5929 \nL 125.787018 38.0616 \nL 127.097756 37.2993 \nL 129.719232 34.9893 \nL 131.029971 35.1048 \nL 133.651447 37.2069 \nL 134.962185 36.5832 \nL 136.272924 36.4446 \nL 138.8944 34.8969 \nL 140.205138 33.7881 \nL 141.515877 35.8671 \nL 145.448091 33.765 \nL 146.75883 35.4744 \nL 148.069568 32.7486 \nL 149.380306 34.92 \nL 150.691044 33.534 \nL 152.001783 32.379 \nL 153.312521 34.5966 \nL 155.933997 32.379 \nL 157.244736 31.8015 \nL 158.555474 32.3097 \nL 159.866212 32.5176 \nL 161.176951 32.4021 \nL 162.487689 36.1443 \nL 163.798427 33.6033 \nL 165.109165 34.5273 \nL 166.419904 31.4781 \nL 167.730642 33.1413 \nL 169.04138 34.1346 \nL 170.352118 31.3626 \nL 171.662857 31.917 \nL 172.973595 31.455 \nL 174.284333 33.2799 \nL 175.595071 33.3492 \nL 176.90581 32.7486 \nL 178.216548 34.6428 \nL 179.527286 31.8708 \nL 180.838024 31.5474 \nL 182.148763 32.379 \nL 183.459501 36.6756 \nL 184.770239 31.5243 \nL 186.080977 30.762 \nL 187.391716 30.4386 \nL 188.702454 31.8477 \nL 190.013192 31.686 \nL 191.32393 30.6696 \nL 192.634669 34.2501 \nL 193.945407 31.3395 \nL 195.256145 32.0556 \nL 196.566883 32.5176 \nL 197.877622 31.6629 \nL 199.18836 30.6465 \nL 200.499098 32.7948 \nL 203.120575 30.8313 \nL 204.431313 31.2702 \nL 205.742051 31.0161 \nL 207.052789 30.993 \nL 208.363528 31.9632 \nL 209.674266 29.2143 \nL 210.985004 31.5012 \nL 212.295742 31.2471 \nL 213.606481 31.5705 \nL 214.917219 29.3067 \nL 216.227957 31.7322 \nL 217.538695 29.376 \nL 218.849434 28.9833 \nL 220.160172 30.6003 \nL 221.47091 30.5772 \nL 222.781648 29.145 \nL 224.092387 31.686 \nL 225.403125 29.3298 \nL 225.403125 29.3298 \n\" clip-path=\"url(#pab910a7716)\" style=\"fill: none; stroke-dasharray: 9.6,2.4,1.5,2.4; stroke-dashoffset: 0; stroke: #008000; stroke-width: 1.5\"/>\n   </g>\n   <g id=\"patch_3\">\n    <path d=\"M 30.103125 145.8 \nL 30.103125 7.2 \n\" style=\"fill: none; stroke: #000000; stroke-width: 0.8; stroke-linejoin: miter; stroke-linecap: square\"/>\n   </g>\n   <g id=\"patch_4\">\n    <path d=\"M 225.403125 145.8 \nL 225.403125 7.2 \n\" style=\"fill: none; stroke: #000000; stroke-width: 0.8; stroke-linejoin: miter; stroke-linecap: square\"/>\n   </g>\n   <g id=\"patch_5\">\n    <path d=\"M 30.103125 145.8 \nL 225.403125 145.8 \n\" style=\"fill: none; stroke: #000000; stroke-width: 0.8; stroke-linejoin: miter; stroke-linecap: square\"/>\n   </g>\n   <g id=\"patch_6\">\n    <path d=\"M 30.103125 7.2 \nL 225.403125 7.2 \n\" style=\"fill: none; stroke: #000000; stroke-width: 0.8; stroke-linejoin: miter; stroke-linecap: square\"/>\n   </g>\n   <g id=\"legend_1\">\n    <g id=\"patch_7\">\n     <path d=\"M 37.103125 140.8 \nL 114.871875 140.8 \nQ 116.871875 140.8 116.871875 138.8 \nL 116.871875 95.765625 \nQ 116.871875 93.765625 114.871875 93.765625 \nL 37.103125 93.765625 \nQ 35.103125 93.765625 35.103125 95.765625 \nL 35.103125 138.8 \nQ 35.103125 140.8 37.103125 140.8 \nz\n\" style=\"fill: #ffffff; opacity: 0.8; stroke: #cccccc; stroke-linejoin: miter\"/>\n    </g>\n    <g id=\"line2d_22\">\n     <path d=\"M 39.103125 101.864063 \nL 49.103125 101.864063 \nL 59.103125 101.864063 \n\" style=\"fill: none; stroke: #1f77b4; stroke-width: 1.5; stroke-linecap: square\"/>\n    </g>\n    <g id=\"text_11\">\n     <!-- train loss -->\n     <g transform=\"translate(67.103125 105.364063) scale(0.1 -0.1)\">\n      <defs>\n       <path id=\"DejaVuSans-74\" d=\"M 1172 4494 \nL 1172 3500 \nL 2356 3500 \nL 2356 3053 \nL 1172 3053 \nL 1172 1153 \nQ 1172 725 1289 603 \nQ 1406 481 1766 481 \nL 2356 481 \nL 2356 0 \nL 1766 0 \nQ 1100 0 847 248 \nQ 594 497 594 1153 \nL 594 3053 \nL 172 3053 \nL 172 3500 \nL 594 3500 \nL 594 4494 \nL 1172 4494 \nz\n\" transform=\"scale(0.015625)\"/>\n       <path id=\"DejaVuSans-72\" d=\"M 2631 2963 \nQ 2534 3019 2420 3045 \nQ 2306 3072 2169 3072 \nQ 1681 3072 1420 2755 \nQ 1159 2438 1159 1844 \nL 1159 0 \nL 581 0 \nL 581 3500 \nL 1159 3500 \nL 1159 2956 \nQ 1341 3275 1631 3429 \nQ 1922 3584 2338 3584 \nQ 2397 3584 2469 3576 \nQ 2541 3569 2628 3553 \nL 2631 2963 \nz\n\" transform=\"scale(0.015625)\"/>\n       <path id=\"DejaVuSans-61\" d=\"M 2194 1759 \nQ 1497 1759 1228 1600 \nQ 959 1441 959 1056 \nQ 959 750 1161 570 \nQ 1363 391 1709 391 \nQ 2188 391 2477 730 \nQ 2766 1069 2766 1631 \nL 2766 1759 \nL 2194 1759 \nz\nM 3341 1997 \nL 3341 0 \nL 2766 0 \nL 2766 531 \nQ 2569 213 2275 61 \nQ 1981 -91 1556 -91 \nQ 1019 -91 701 211 \nQ 384 513 384 1019 \nQ 384 1609 779 1909 \nQ 1175 2209 1959 2209 \nL 2766 2209 \nL 2766 2266 \nQ 2766 2663 2505 2880 \nQ 2244 3097 1772 3097 \nQ 1472 3097 1187 3025 \nQ 903 2953 641 2809 \nL 641 3341 \nQ 956 3463 1253 3523 \nQ 1550 3584 1831 3584 \nQ 2591 3584 2966 3190 \nQ 3341 2797 3341 1997 \nz\n\" transform=\"scale(0.015625)\"/>\n       <path id=\"DejaVuSans-69\" d=\"M 603 3500 \nL 1178 3500 \nL 1178 0 \nL 603 0 \nL 603 3500 \nz\nM 603 4863 \nL 1178 4863 \nL 1178 4134 \nL 603 4134 \nL 603 4863 \nz\n\" transform=\"scale(0.015625)\"/>\n       <path id=\"DejaVuSans-6e\" d=\"M 3513 2113 \nL 3513 0 \nL 2938 0 \nL 2938 2094 \nQ 2938 2591 2744 2837 \nQ 2550 3084 2163 3084 \nQ 1697 3084 1428 2787 \nQ 1159 2491 1159 1978 \nL 1159 0 \nL 581 0 \nL 581 3500 \nL 1159 3500 \nL 1159 2956 \nQ 1366 3272 1645 3428 \nQ 1925 3584 2291 3584 \nQ 2894 3584 3203 3211 \nQ 3513 2838 3513 2113 \nz\n\" transform=\"scale(0.015625)\"/>\n       <path id=\"DejaVuSans-20\" transform=\"scale(0.015625)\"/>\n       <path id=\"DejaVuSans-6c\" d=\"M 603 4863 \nL 1178 4863 \nL 1178 0 \nL 603 0 \nL 603 4863 \nz\n\" transform=\"scale(0.015625)\"/>\n       <path id=\"DejaVuSans-73\" d=\"M 2834 3397 \nL 2834 2853 \nQ 2591 2978 2328 3040 \nQ 2066 3103 1784 3103 \nQ 1356 3103 1142 2972 \nQ 928 2841 928 2578 \nQ 928 2378 1081 2264 \nQ 1234 2150 1697 2047 \nL 1894 2003 \nQ 2506 1872 2764 1633 \nQ 3022 1394 3022 966 \nQ 3022 478 2636 193 \nQ 2250 -91 1575 -91 \nQ 1294 -91 989 -36 \nQ 684 19 347 128 \nL 347 722 \nQ 666 556 975 473 \nQ 1284 391 1588 391 \nQ 1994 391 2212 530 \nQ 2431 669 2431 922 \nQ 2431 1156 2273 1281 \nQ 2116 1406 1581 1522 \nL 1381 1569 \nQ 847 1681 609 1914 \nQ 372 2147 372 2553 \nQ 372 3047 722 3315 \nQ 1072 3584 1716 3584 \nQ 2034 3584 2315 3537 \nQ 2597 3491 2834 3397 \nz\n\" transform=\"scale(0.015625)\"/>\n      </defs>\n      <use xlink:href=\"#DejaVuSans-74\"/>\n      <use xlink:href=\"#DejaVuSans-72\" x=\"39.208984\"/>\n      <use xlink:href=\"#DejaVuSans-61\" x=\"80.322266\"/>\n      <use xlink:href=\"#DejaVuSans-69\" x=\"141.601562\"/>\n      <use xlink:href=\"#DejaVuSans-6e\" x=\"169.384766\"/>\n      <use xlink:href=\"#DejaVuSans-20\" x=\"232.763672\"/>\n      <use xlink:href=\"#DejaVuSans-6c\" x=\"264.550781\"/>\n      <use xlink:href=\"#DejaVuSans-6f\" x=\"292.333984\"/>\n      <use xlink:href=\"#DejaVuSans-73\" x=\"353.515625\"/>\n      <use xlink:href=\"#DejaVuSans-73\" x=\"405.615234\"/>\n     </g>\n    </g>\n    <g id=\"line2d_23\">\n     <path d=\"M 39.103125 116.542188 \nL 49.103125 116.542188 \nL 59.103125 116.542188 \n\" style=\"fill: none; stroke-dasharray: 5.55,2.4; stroke-dashoffset: 0; stroke: #bf00bf; stroke-width: 1.5\"/>\n    </g>\n    <g id=\"text_12\">\n     <!-- train acc -->\n     <g transform=\"translate(67.103125 120.042188) scale(0.1 -0.1)\">\n      <use xlink:href=\"#DejaVuSans-74\"/>\n      <use xlink:href=\"#DejaVuSans-72\" x=\"39.208984\"/>\n      <use xlink:href=\"#DejaVuSans-61\" x=\"80.322266\"/>\n      <use xlink:href=\"#DejaVuSans-69\" x=\"141.601562\"/>\n      <use xlink:href=\"#DejaVuSans-6e\" x=\"169.384766\"/>\n      <use xlink:href=\"#DejaVuSans-20\" x=\"232.763672\"/>\n      <use xlink:href=\"#DejaVuSans-61\" x=\"264.550781\"/>\n      <use xlink:href=\"#DejaVuSans-63\" x=\"325.830078\"/>\n      <use xlink:href=\"#DejaVuSans-63\" x=\"380.810547\"/>\n     </g>\n    </g>\n    <g id=\"line2d_24\">\n     <path d=\"M 39.103125 131.220313 \nL 49.103125 131.220313 \nL 59.103125 131.220313 \n\" style=\"fill: none; stroke-dasharray: 9.6,2.4,1.5,2.4; stroke-dashoffset: 0; stroke: #008000; stroke-width: 1.5\"/>\n    </g>\n    <g id=\"text_13\">\n     <!-- test acc -->\n     <g transform=\"translate(67.103125 134.720313) scale(0.1 -0.1)\">\n      <use xlink:href=\"#DejaVuSans-74\"/>\n      <use xlink:href=\"#DejaVuSans-65\" x=\"39.208984\"/>\n      <use xlink:href=\"#DejaVuSans-73\" x=\"100.732422\"/>\n      <use xlink:href=\"#DejaVuSans-74\" x=\"152.832031\"/>\n      <use xlink:href=\"#DejaVuSans-20\" x=\"192.041016\"/>\n      <use xlink:href=\"#DejaVuSans-61\" x=\"223.828125\"/>\n      <use xlink:href=\"#DejaVuSans-63\" x=\"285.107422\"/>\n      <use xlink:href=\"#DejaVuSans-63\" x=\"340.087891\"/>\n     </g>\n    </g>\n   </g>\n  </g>\n </g>\n <defs>\n  <clipPath id=\"pab910a7716\">\n   <rect x=\"30.103125\" y=\"7.2\" width=\"195.3\" height=\"138.6\"/>\n  </clipPath>\n </defs>\n</svg>\n"
     },
     "metadata": {}
    }
   ]
  }
 ]
}
